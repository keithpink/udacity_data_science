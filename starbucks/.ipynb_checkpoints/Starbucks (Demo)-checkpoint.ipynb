{
 "cells": [
  {
   "cell_type": "markdown",
   "metadata": {},
   "source": [
    "## Portfolio Exercise: Starbucks\n",
    "<br>\n",
    "\n",
    "<img src=\"https://opj.ca/wp-content/uploads/2018/02/New-Starbucks-Logo-1200x969.jpg\" width=\"200\" height=\"200\">\n",
    "<br>\n",
    "<br>\n",
    " \n",
    "#### Background Information\n",
    "\n",
    "The dataset you will be provided in this portfolio exercise was originally used as a take-home assignment provided by Starbucks for their job candidates. The data for this exercise consists of about 120,000 data points split in a 2:1 ratio among training and test files. In the experiment simulated by the data, an advertising promotion was tested to see if it would bring more customers to purchase a specific product priced at $10. Since it costs the company 0.15 to send out each promotion, it would be best to limit that promotion only to those that are most receptive to the promotion. Each data point includes one column indicating whether or not an individual was sent a promotion for the product, and one column indicating whether or not that individual eventually purchased that product. Each individual also has seven additional features associated with them, which are provided abstractly as V1-V7.\n",
    "\n",
    "#### Optimization Strategy\n",
    "\n",
    "Your task is to use the training data to understand what patterns in V1-V7 to indicate that a promotion should be provided to a user. Specifically, your goal is to maximize the following metrics:\n",
    "\n",
    "* **Incremental Response Rate (IRR)** \n",
    "\n",
    "IRR depicts how many more customers purchased the product with the promotion, as compared to if they didn't receive the promotion. Mathematically, it's the ratio of the number of purchasers in the promotion group to the total number of customers in the purchasers group (_treatment_) minus the ratio of the number of purchasers in the non-promotional group to the total number of customers in the non-promotional group (_control_).\n",
    "\n",
    "$$ IRR = \\frac{purch_{treat}}{cust_{treat}} - \\frac{purch_{ctrl}}{cust_{ctrl}} $$\n",
    "\n",
    "\n",
    "* **Net Incremental Revenue (NIR)**\n",
    "\n",
    "NIR depicts how much is made (or lost) by sending out the promotion. Mathematically, this is 10 times the total number of purchasers that received the promotion minus 0.15 times the number of promotions sent out, minus 10 times the number of purchasers who were not given the promotion.\n",
    "\n",
    "$$ NIR = (10\\cdot purch_{treat} - 0.15 \\cdot cust_{treat}) - 10 \\cdot purch_{ctrl}$$\n",
    "\n",
    "For a full description of what Starbucks provides to candidates see the [instructions available here](https://drive.google.com/open?id=18klca9Sef1Rs6q8DW4l7o349r8B70qXM).\n",
    "\n",
    "Below you can find the training data provided.  Explore the data and different optimization strategies.\n",
    "\n",
    "#### How To Test Your Strategy?\n",
    "\n",
    "When you feel like you have an optimization strategy, complete the `promotion_strategy` function to pass to the `test_results` function.  \n",
    "From past data, we know there are four possible outomes:\n",
    "\n",
    "Table of actual promotion vs. predicted promotion customers:  \n",
    "\n",
    "<table>\n",
    "<tr><th></th><th colspan = '2'>Actual</th></tr>\n",
    "<tr><th>Predicted</th><th>Yes</th><th>No</th></tr>\n",
    "<tr><th>Yes</th><td>I</td><td>II</td></tr>\n",
    "<tr><th>No</th><td>III</td><td>IV</td></tr>\n",
    "</table>\n",
    "\n",
    "The metrics are only being compared for the individuals we predict should obtain the promotion – that is, quadrants I and II.  Since the first set of individuals that receive the promotion (in the training set) receive it randomly, we can expect that quadrants I and II will have approximately equivalent participants.  \n",
    "\n",
    "Comparing quadrant I to II then gives an idea of how well your promotion strategy will work in the future. \n",
    "\n",
    "Get started by reading in the data below.  See how each variable or combination of variables along with a promotion influences the chance of purchasing.  When you feel like you have a strategy for who should receive a promotion, test your strategy against the test dataset used in the final `test_results` function."
   ]
  },
  {
   "cell_type": "code",
   "execution_count": 2,
   "metadata": {},
   "outputs": [],
   "source": [
    "# load in packages\n",
    "import numpy as np\n",
    "import pandas as pd\n",
    "import scipy as sp\n",
    "import sklearn as sk\n",
    "import statsmodels.api as sm\n",
    "import matplotlib.pyplot as plt\n",
    "import seaborn as sb\n",
    "import xgboost as xgb\n",
    "\n",
    "from pylift import TransformedOutcome\n",
    "from imblearn.over_sampling import SMOTE\n",
    "from itertools import combinations\n",
    "from test_results import test_results, score\n",
    "from statsmodels.tools import add_constant\n",
    "%matplotlib inline"
   ]
  },
  {
   "cell_type": "code",
   "execution_count": 16,
   "metadata": {},
   "outputs": [
    {
     "data": {
      "text/html": [
       "<div>\n",
       "<style scoped>\n",
       "    .dataframe tbody tr th:only-of-type {\n",
       "        vertical-align: middle;\n",
       "    }\n",
       "\n",
       "    .dataframe tbody tr th {\n",
       "        vertical-align: top;\n",
       "    }\n",
       "\n",
       "    .dataframe thead th {\n",
       "        text-align: right;\n",
       "    }\n",
       "</style>\n",
       "<table border=\"1\" class=\"dataframe\">\n",
       "  <thead>\n",
       "    <tr style=\"text-align: right;\">\n",
       "      <th></th>\n",
       "      <th>ID</th>\n",
       "      <th>Promotion</th>\n",
       "      <th>purchase</th>\n",
       "      <th>V1</th>\n",
       "      <th>V2</th>\n",
       "      <th>V3</th>\n",
       "      <th>V4</th>\n",
       "      <th>V5</th>\n",
       "      <th>V6</th>\n",
       "      <th>V7</th>\n",
       "    </tr>\n",
       "  </thead>\n",
       "  <tbody>\n",
       "    <tr>\n",
       "      <th>0</th>\n",
       "      <td>1</td>\n",
       "      <td>No</td>\n",
       "      <td>0</td>\n",
       "      <td>2</td>\n",
       "      <td>30.443518</td>\n",
       "      <td>-1.165083</td>\n",
       "      <td>1</td>\n",
       "      <td>1</td>\n",
       "      <td>3</td>\n",
       "      <td>2</td>\n",
       "    </tr>\n",
       "    <tr>\n",
       "      <th>1</th>\n",
       "      <td>3</td>\n",
       "      <td>No</td>\n",
       "      <td>0</td>\n",
       "      <td>3</td>\n",
       "      <td>32.159350</td>\n",
       "      <td>-0.645617</td>\n",
       "      <td>2</td>\n",
       "      <td>3</td>\n",
       "      <td>2</td>\n",
       "      <td>2</td>\n",
       "    </tr>\n",
       "    <tr>\n",
       "      <th>2</th>\n",
       "      <td>4</td>\n",
       "      <td>No</td>\n",
       "      <td>0</td>\n",
       "      <td>2</td>\n",
       "      <td>30.431659</td>\n",
       "      <td>0.133583</td>\n",
       "      <td>1</td>\n",
       "      <td>1</td>\n",
       "      <td>4</td>\n",
       "      <td>2</td>\n",
       "    </tr>\n",
       "    <tr>\n",
       "      <th>3</th>\n",
       "      <td>5</td>\n",
       "      <td>No</td>\n",
       "      <td>0</td>\n",
       "      <td>0</td>\n",
       "      <td>26.588914</td>\n",
       "      <td>-0.212728</td>\n",
       "      <td>2</td>\n",
       "      <td>1</td>\n",
       "      <td>4</td>\n",
       "      <td>2</td>\n",
       "    </tr>\n",
       "    <tr>\n",
       "      <th>4</th>\n",
       "      <td>8</td>\n",
       "      <td>Yes</td>\n",
       "      <td>0</td>\n",
       "      <td>3</td>\n",
       "      <td>28.044331</td>\n",
       "      <td>-0.385883</td>\n",
       "      <td>1</td>\n",
       "      <td>1</td>\n",
       "      <td>2</td>\n",
       "      <td>2</td>\n",
       "    </tr>\n",
       "  </tbody>\n",
       "</table>\n",
       "</div>"
      ],
      "text/plain": [
       "   ID Promotion  purchase  V1         V2        V3  V4  V5  V6  V7\n",
       "0   1        No         0   2  30.443518 -1.165083   1   1   3   2\n",
       "1   3        No         0   3  32.159350 -0.645617   2   3   2   2\n",
       "2   4        No         0   2  30.431659  0.133583   1   1   4   2\n",
       "3   5        No         0   0  26.588914 -0.212728   2   1   4   2\n",
       "4   8       Yes         0   3  28.044331 -0.385883   1   1   2   2"
      ]
     },
     "execution_count": 16,
     "metadata": {},
     "output_type": "execute_result"
    }
   ],
   "source": [
    "# load in the data\n",
    "train_data = pd.read_csv('./training.csv')\n",
    "train_data.head()"
   ]
  },
  {
   "cell_type": "markdown",
   "metadata": {},
   "source": [
    "## 1. EDA"
   ]
  },
  {
   "cell_type": "code",
   "execution_count": 17,
   "metadata": {},
   "outputs": [
    {
     "data": {
      "text/plain": [
       "(84534, 10)"
      ]
     },
     "execution_count": 17,
     "metadata": {},
     "output_type": "execute_result"
    }
   ],
   "source": [
    "# check sample size\n",
    "train_data.shape"
   ]
  },
  {
   "cell_type": "code",
   "execution_count": 18,
   "metadata": {},
   "outputs": [
    {
     "name": "stdout",
     "output_type": "stream",
     "text": [
      "Missing values: ID           0\n",
      "Promotion    0\n",
      "purchase     0\n",
      "V1           0\n",
      "V2           0\n",
      "V3           0\n",
      "V4           0\n",
      "V5           0\n",
      "V6           0\n",
      "V7           0\n",
      "dtype: int64\n"
     ]
    }
   ],
   "source": [
    "# transfer 'Promotion' to dummy variable and describe\n",
    "train_data['Promotion'] = train_data['Promotion'].map(dict(Yes=1, No=0))\n",
    "\n",
    "# check missing value. ---No missing value\n",
    "print('Missing values:', train_data.isnull().sum())"
   ]
  },
  {
   "cell_type": "code",
   "execution_count": 69,
   "metadata": {},
   "outputs": [
    {
     "name": "stdout",
     "output_type": "stream",
     "text": [
      "Duplicate values: 0\n"
     ]
    }
   ],
   "source": [
    "# check duplicates. --- No duplicates\n",
    "print('Duplicate values:', train_data.duplicated().sum())"
   ]
  },
  {
   "cell_type": "code",
   "execution_count": 61,
   "metadata": {},
   "outputs": [
    {
     "data": {
      "text/html": [
       "<div>\n",
       "<style scoped>\n",
       "    .dataframe tbody tr th:only-of-type {\n",
       "        vertical-align: middle;\n",
       "    }\n",
       "\n",
       "    .dataframe tbody tr th {\n",
       "        vertical-align: top;\n",
       "    }\n",
       "\n",
       "    .dataframe thead th {\n",
       "        text-align: right;\n",
       "    }\n",
       "</style>\n",
       "<table border=\"1\" class=\"dataframe\">\n",
       "  <thead>\n",
       "    <tr style=\"text-align: right;\">\n",
       "      <th></th>\n",
       "      <th>ID</th>\n",
       "      <th>Promotion</th>\n",
       "      <th>purchase</th>\n",
       "      <th>V1</th>\n",
       "      <th>V2</th>\n",
       "      <th>V3</th>\n",
       "      <th>V4</th>\n",
       "      <th>V5</th>\n",
       "      <th>V6</th>\n",
       "      <th>V7</th>\n",
       "    </tr>\n",
       "  </thead>\n",
       "  <tbody>\n",
       "    <tr>\n",
       "      <th>ID</th>\n",
       "      <td>1.000000</td>\n",
       "      <td>-0.003393</td>\n",
       "      <td>0.006902</td>\n",
       "      <td>-0.004199</td>\n",
       "      <td>-0.002757</td>\n",
       "      <td>0.003296</td>\n",
       "      <td>-0.010600</td>\n",
       "      <td>0.000133</td>\n",
       "      <td>-0.001434</td>\n",
       "      <td>0.001686</td>\n",
       "    </tr>\n",
       "    <tr>\n",
       "      <th>Promotion</th>\n",
       "      <td>-0.003393</td>\n",
       "      <td>1.000000</td>\n",
       "      <td>0.042884</td>\n",
       "      <td>0.005039</td>\n",
       "      <td>-0.000652</td>\n",
       "      <td>0.007269</td>\n",
       "      <td>-0.001416</td>\n",
       "      <td>-0.003552</td>\n",
       "      <td>0.001190</td>\n",
       "      <td>-0.001115</td>\n",
       "    </tr>\n",
       "    <tr>\n",
       "      <th>purchase</th>\n",
       "      <td>0.006902</td>\n",
       "      <td>0.042884</td>\n",
       "      <td>1.000000</td>\n",
       "      <td>-0.004906</td>\n",
       "      <td>-0.001694</td>\n",
       "      <td>-0.006395</td>\n",
       "      <td>0.032245</td>\n",
       "      <td>0.007814</td>\n",
       "      <td>-0.001538</td>\n",
       "      <td>-0.001117</td>\n",
       "    </tr>\n",
       "    <tr>\n",
       "      <th>V1</th>\n",
       "      <td>-0.004199</td>\n",
       "      <td>0.005039</td>\n",
       "      <td>-0.004906</td>\n",
       "      <td>1.000000</td>\n",
       "      <td>-0.001564</td>\n",
       "      <td>0.003995</td>\n",
       "      <td>0.002568</td>\n",
       "      <td>-0.001196</td>\n",
       "      <td>-0.003672</td>\n",
       "      <td>0.001436</td>\n",
       "    </tr>\n",
       "    <tr>\n",
       "      <th>V2</th>\n",
       "      <td>-0.002757</td>\n",
       "      <td>-0.000652</td>\n",
       "      <td>-0.001694</td>\n",
       "      <td>-0.001564</td>\n",
       "      <td>1.000000</td>\n",
       "      <td>0.001165</td>\n",
       "      <td>0.002848</td>\n",
       "      <td>-0.001046</td>\n",
       "      <td>-0.004156</td>\n",
       "      <td>-0.002293</td>\n",
       "    </tr>\n",
       "    <tr>\n",
       "      <th>V3</th>\n",
       "      <td>0.003296</td>\n",
       "      <td>0.007269</td>\n",
       "      <td>-0.006395</td>\n",
       "      <td>0.003995</td>\n",
       "      <td>0.001165</td>\n",
       "      <td>1.000000</td>\n",
       "      <td>0.003753</td>\n",
       "      <td>-0.001736</td>\n",
       "      <td>0.004464</td>\n",
       "      <td>0.001135</td>\n",
       "    </tr>\n",
       "    <tr>\n",
       "      <th>V4</th>\n",
       "      <td>-0.010600</td>\n",
       "      <td>-0.001416</td>\n",
       "      <td>0.032245</td>\n",
       "      <td>0.002568</td>\n",
       "      <td>0.002848</td>\n",
       "      <td>0.003753</td>\n",
       "      <td>1.000000</td>\n",
       "      <td>0.003161</td>\n",
       "      <td>0.002552</td>\n",
       "      <td>-0.003176</td>\n",
       "    </tr>\n",
       "    <tr>\n",
       "      <th>V5</th>\n",
       "      <td>0.000133</td>\n",
       "      <td>-0.003552</td>\n",
       "      <td>0.007814</td>\n",
       "      <td>-0.001196</td>\n",
       "      <td>-0.001046</td>\n",
       "      <td>-0.001736</td>\n",
       "      <td>0.003161</td>\n",
       "      <td>1.000000</td>\n",
       "      <td>-0.003043</td>\n",
       "      <td>0.003571</td>\n",
       "    </tr>\n",
       "    <tr>\n",
       "      <th>V6</th>\n",
       "      <td>-0.001434</td>\n",
       "      <td>0.001190</td>\n",
       "      <td>-0.001538</td>\n",
       "      <td>-0.003672</td>\n",
       "      <td>-0.004156</td>\n",
       "      <td>0.004464</td>\n",
       "      <td>0.002552</td>\n",
       "      <td>-0.003043</td>\n",
       "      <td>1.000000</td>\n",
       "      <td>-0.001398</td>\n",
       "    </tr>\n",
       "    <tr>\n",
       "      <th>V7</th>\n",
       "      <td>0.001686</td>\n",
       "      <td>-0.001115</td>\n",
       "      <td>-0.001117</td>\n",
       "      <td>0.001436</td>\n",
       "      <td>-0.002293</td>\n",
       "      <td>0.001135</td>\n",
       "      <td>-0.003176</td>\n",
       "      <td>0.003571</td>\n",
       "      <td>-0.001398</td>\n",
       "      <td>1.000000</td>\n",
       "    </tr>\n",
       "  </tbody>\n",
       "</table>\n",
       "</div>"
      ],
      "text/plain": [
       "                 ID  Promotion  purchase        V1        V2        V3  \\\n",
       "ID         1.000000  -0.003393  0.006902 -0.004199 -0.002757  0.003296   \n",
       "Promotion -0.003393   1.000000  0.042884  0.005039 -0.000652  0.007269   \n",
       "purchase   0.006902   0.042884  1.000000 -0.004906 -0.001694 -0.006395   \n",
       "V1        -0.004199   0.005039 -0.004906  1.000000 -0.001564  0.003995   \n",
       "V2        -0.002757  -0.000652 -0.001694 -0.001564  1.000000  0.001165   \n",
       "V3         0.003296   0.007269 -0.006395  0.003995  0.001165  1.000000   \n",
       "V4        -0.010600  -0.001416  0.032245  0.002568  0.002848  0.003753   \n",
       "V5         0.000133  -0.003552  0.007814 -0.001196 -0.001046 -0.001736   \n",
       "V6        -0.001434   0.001190 -0.001538 -0.003672 -0.004156  0.004464   \n",
       "V7         0.001686  -0.001115 -0.001117  0.001436 -0.002293  0.001135   \n",
       "\n",
       "                 V4        V5        V6        V7  \n",
       "ID        -0.010600  0.000133 -0.001434  0.001686  \n",
       "Promotion -0.001416 -0.003552  0.001190 -0.001115  \n",
       "purchase   0.032245  0.007814 -0.001538 -0.001117  \n",
       "V1         0.002568 -0.001196 -0.003672  0.001436  \n",
       "V2         0.002848 -0.001046 -0.004156 -0.002293  \n",
       "V3         0.003753 -0.001736  0.004464  0.001135  \n",
       "V4         1.000000  0.003161  0.002552 -0.003176  \n",
       "V5         0.003161  1.000000 -0.003043  0.003571  \n",
       "V6         0.002552 -0.003043  1.000000 -0.001398  \n",
       "V7        -0.003176  0.003571 -0.001398  1.000000  "
      ]
     },
     "execution_count": 61,
     "metadata": {},
     "output_type": "execute_result"
    }
   ],
   "source": [
    "train_data.corr()"
   ]
  },
  {
   "cell_type": "markdown",
   "metadata": {},
   "source": [
    "1. We have no missing values and duplicated values.\n",
    "2. **'ID'** is lowly correlated to all control variables, implying sample is randomly selected.\n",
    "3. **'Promotion'** is lowly correlated to all control variables, implying promotion is randomly delivered\n",
    "\n",
    "A more formal invariant metric check is included in the next part."
   ]
  },
  {
   "cell_type": "code",
   "execution_count": 78,
   "metadata": {},
   "outputs": [
    {
     "data": {
      "text/html": [
       "<div>\n",
       "<style scoped>\n",
       "    .dataframe tbody tr th:only-of-type {\n",
       "        vertical-align: middle;\n",
       "    }\n",
       "\n",
       "    .dataframe tbody tr th {\n",
       "        vertical-align: top;\n",
       "    }\n",
       "\n",
       "    .dataframe thead th {\n",
       "        text-align: right;\n",
       "    }\n",
       "</style>\n",
       "<table border=\"1\" class=\"dataframe\">\n",
       "  <thead>\n",
       "    <tr style=\"text-align: right;\">\n",
       "      <th>Promotion</th>\n",
       "      <th>0</th>\n",
       "      <th>1</th>\n",
       "    </tr>\n",
       "    <tr>\n",
       "      <th>purchase</th>\n",
       "      <th></th>\n",
       "      <th></th>\n",
       "    </tr>\n",
       "  </thead>\n",
       "  <tbody>\n",
       "    <tr>\n",
       "      <th>0</th>\n",
       "      <td>41851</td>\n",
       "      <td>41643</td>\n",
       "    </tr>\n",
       "    <tr>\n",
       "      <th>1</th>\n",
       "      <td>319</td>\n",
       "      <td>721</td>\n",
       "    </tr>\n",
       "  </tbody>\n",
       "</table>\n",
       "</div>"
      ],
      "text/plain": [
       "Promotion      0      1\n",
       "purchase               \n",
       "0          41851  41643\n",
       "1            319    721"
      ]
     },
     "execution_count": 78,
     "metadata": {},
     "output_type": "execute_result"
    }
   ],
   "source": [
    "# compute pivot table\n",
    "tmp = train_data[['Promotion', 'purchase', 'ID']]\n",
    "df_pivot = tmp.pivot_table(index='purchase', columns='Promotion', values='ID', aggfunc='count')\n",
    "df_pivot.head()"
   ]
  },
  {
   "cell_type": "code",
   "execution_count": 84,
   "metadata": {},
   "outputs": [
    {
     "data": {
      "text/plain": [
       "42364"
      ]
     },
     "execution_count": 84,
     "metadata": {},
     "output_type": "execute_result"
    }
   ],
   "source": [
    "df_pivot[1].sum()"
   ]
  },
  {
   "cell_type": "code",
   "execution_count": 94,
   "metadata": {},
   "outputs": [
    {
     "name": "stdout",
     "output_type": "stream",
     "text": [
      "The Incremental Response Rate is 0.95%\n"
     ]
    }
   ],
   "source": [
    "def IRR(df):\n",
    "    ''' compute Incremental Response Rate (IRR)\n",
    "    '''\n",
    "    purch_treat = df.loc[1, 1]\n",
    "    purch_ctrl = df.loc[1, 0]\n",
    "    \n",
    "    cust_treat = df[1].sum()\n",
    "    cust_ctrl = df[0].sum()\n",
    "    \n",
    "    return purch_treat/cust_treat - purch_ctrl/cust_ctrl\n",
    "\n",
    "print('The Incremental Response Rate is {:.2%}'.format(IRR(df_pivot)))"
   ]
  },
  {
   "cell_type": "code",
   "execution_count": 95,
   "metadata": {},
   "outputs": [
    {
     "name": "stdout",
     "output_type": "stream",
     "text": [
      "The Net Incremental Revenue is $-2334.60\n"
     ]
    }
   ],
   "source": [
    "def NIR(df):\n",
    "    ''' Net Incremental Revenue (NIR)\n",
    "    '''\n",
    "    purch_treat = df.loc[1, 1]\n",
    "    purch_ctrl = df.loc[1, 0]\n",
    "    \n",
    "    cust_treat = df[1].sum()\n",
    "    \n",
    "    return (10*purch_treat - 0.15*cust_treat) - 10*purch_ctrl\n",
    "\n",
    "print('The Net Incremental Revenue is ${:.2f}'.format(NIR(df_pivot)))"
   ]
  },
  {
   "cell_type": "markdown",
   "metadata": {},
   "source": [
    "## 2. Metric Check: Permutation Test"
   ]
  },
  {
   "cell_type": "markdown",
   "metadata": {},
   "source": [
    "For the invariant metric check, the sample size is trivial. I am going to check if all seven control variables are balanced between treatment and control group."
   ]
  },
  {
   "cell_type": "code",
   "execution_count": 127,
   "metadata": {},
   "outputs": [],
   "source": [
    "metric = train_data.groupby('Promotion').mean()\n",
    "metric.drop(['ID'], axis=1, inplace=True)\n",
    "metric = metric.transpose()"
   ]
  },
  {
   "cell_type": "code",
   "execution_count": 128,
   "metadata": {},
   "outputs": [
    {
     "data": {
      "text/plain": [
       "Text(0.5, 1.0, 'Invariant Metric Check')"
      ]
     },
     "execution_count": 128,
     "metadata": {},
     "output_type": "execute_result"
    },
    {
     "data": {
      "image/png": "[encoded data removed]",
      "text/plain": [
       "<Figure size 432x288 with 1 Axes>"
      ]
     },
     "metadata": {
      "needs_background": "light"
     },
     "output_type": "display_data"
    }
   ],
   "source": [
    "# drop 'V2' for better illustration. 'V2' values are much larger than all other varibales.\n",
    "metric.drop(['V2','purchase'],axis=0).plot(kind='bar')\n",
    "plt.xticks(rotation=0);\n",
    "plt.title('Invariant Metric Check')"
   ]
  },
  {
   "cell_type": "code",
   "execution_count": 153,
   "metadata": {},
   "outputs": [
    {
     "data": {
      "text/html": [
       "<div>\n",
       "<style scoped>\n",
       "    .dataframe tbody tr th:only-of-type {\n",
       "        vertical-align: middle;\n",
       "    }\n",
       "\n",
       "    .dataframe tbody tr th {\n",
       "        vertical-align: top;\n",
       "    }\n",
       "\n",
       "    .dataframe thead th {\n",
       "        text-align: right;\n",
       "    }\n",
       "</style>\n",
       "<table border=\"1\" class=\"dataframe\">\n",
       "  <thead>\n",
       "    <tr style=\"text-align: right;\">\n",
       "      <th>Promotion</th>\n",
       "      <th>0</th>\n",
       "      <th>1</th>\n",
       "      <th>obs_diff</th>\n",
       "      <th>lower bound</th>\n",
       "    </tr>\n",
       "  </thead>\n",
       "  <tbody>\n",
       "    <tr>\n",
       "      <th>purchase</th>\n",
       "      <td>0.007565</td>\n",
       "      <td>0.017019</td>\n",
       "      <td>-0.009455</td>\n",
       "      <td>NaN</td>\n",
       "    </tr>\n",
       "    <tr>\n",
       "      <th>V1</th>\n",
       "      <td>1.496277</td>\n",
       "      <td>1.505028</td>\n",
       "      <td>-0.008751</td>\n",
       "      <td>NaN</td>\n",
       "    </tr>\n",
       "    <tr>\n",
       "      <th>V2</th>\n",
       "      <td>29.976876</td>\n",
       "      <td>29.970338</td>\n",
       "      <td>0.006538</td>\n",
       "      <td>NaN</td>\n",
       "    </tr>\n",
       "    <tr>\n",
       "      <th>V3</th>\n",
       "      <td>-0.007099</td>\n",
       "      <td>0.007446</td>\n",
       "      <td>-0.014545</td>\n",
       "      <td>NaN</td>\n",
       "    </tr>\n",
       "    <tr>\n",
       "      <th>V4</th>\n",
       "      <td>1.680270</td>\n",
       "      <td>1.678949</td>\n",
       "      <td>0.001321</td>\n",
       "      <td>NaN</td>\n",
       "    </tr>\n",
       "    <tr>\n",
       "      <th>V5</th>\n",
       "      <td>2.330638</td>\n",
       "      <td>2.324662</td>\n",
       "      <td>0.005975</td>\n",
       "      <td>NaN</td>\n",
       "    </tr>\n",
       "    <tr>\n",
       "      <th>V6</th>\n",
       "      <td>2.501565</td>\n",
       "      <td>2.504225</td>\n",
       "      <td>-0.002660</td>\n",
       "      <td>NaN</td>\n",
       "    </tr>\n",
       "    <tr>\n",
       "      <th>V7</th>\n",
       "      <td>1.702205</td>\n",
       "      <td>1.701185</td>\n",
       "      <td>0.001020</td>\n",
       "      <td>NaN</td>\n",
       "    </tr>\n",
       "  </tbody>\n",
       "</table>\n",
       "</div>"
      ],
      "text/plain": [
       "Promotion          0          1  obs_diff  lower bound\n",
       "purchase    0.007565   0.017019 -0.009455          NaN\n",
       "V1          1.496277   1.505028 -0.008751          NaN\n",
       "V2         29.976876  29.970338  0.006538          NaN\n",
       "V3         -0.007099   0.007446 -0.014545          NaN\n",
       "V4          1.680270   1.678949  0.001321          NaN\n",
       "V5          2.330638   2.324662  0.005975          NaN\n",
       "V6          2.501565   2.504225 -0.002660          NaN\n",
       "V7          1.702205   1.701185  0.001020          NaN"
      ]
     },
     "execution_count": 153,
     "metadata": {},
     "output_type": "execute_result"
    }
   ],
   "source": [
    "metric['obs_diff'] = metric[0] - metric[1]\n",
    "metric"
   ]
  },
  {
   "cell_type": "markdown",
   "metadata": {},
   "source": [
    "I am going to employ a permutation test to examine if these differences are significant."
   ]
  },
  {
   "cell_type": "code",
   "execution_count": 146,
   "metadata": {},
   "outputs": [],
   "source": [
    "def permu_test(df, n_trials=1000):\n",
    "    '''\n",
    "        Compute a confidence interval for mean using a bootstrap method.\n",
    "    \n",
    "    Input parameters:\n",
    "        df: dataset\n",
    "        alternative: type of test to perform, {'less', 'greater'}\n",
    "        n_trials: number of permutation trials to perform\n",
    "    \n",
    "    Output value:\n",
    "        p: estimated p-value of test\n",
    "    '''\n",
    "    sample_diff = np.zeros([n_trials, 8])\n",
    "    \n",
    "    for i in range(n_trials):\n",
    "        # randomly permute the grouping labels\n",
    "        df.Promotion = np.random.permutation(df.Promotion)\n",
    "        tmp = df.groupby('Promotion').mean()\n",
    "        tmp = tmp.drop('ID', axis=1).transpose()\n",
    "        sample_diff[i,:] = tmp[0] - tmp[1]\n",
    "    \n",
    "    lower_bound = np.percentile(sample_diff, 2.5, axis=0)\n",
    "    higher_bound = np.percentile(sample_diff, 97.5, axis=0)\n",
    "    \n",
    "    return lower_bound, higher_bound"
   ]
  },
  {
   "cell_type": "code",
   "execution_count": 172,
   "metadata": {},
   "outputs": [],
   "source": [
    "# compute the 95% confidence interval\n",
    "lower_bound, higher_bound = permu_test(train_data, n_trials=10_000)"
   ]
  },
  {
   "cell_type": "code",
   "execution_count": 173,
   "metadata": {},
   "outputs": [
    {
     "data": {
      "text/html": [
       "<div>\n",
       "<style scoped>\n",
       "    .dataframe tbody tr th:only-of-type {\n",
       "        vertical-align: middle;\n",
       "    }\n",
       "\n",
       "    .dataframe tbody tr th {\n",
       "        vertical-align: top;\n",
       "    }\n",
       "\n",
       "    .dataframe thead th {\n",
       "        text-align: right;\n",
       "    }\n",
       "</style>\n",
       "<table border=\"1\" class=\"dataframe\">\n",
       "  <thead>\n",
       "    <tr style=\"text-align: right;\">\n",
       "      <th>Promotion</th>\n",
       "      <th>0</th>\n",
       "      <th>1</th>\n",
       "      <th>obs_diff</th>\n",
       "      <th>lower bound</th>\n",
       "      <th>higher bound</th>\n",
       "      <th>significance</th>\n",
       "    </tr>\n",
       "  </thead>\n",
       "  <tbody>\n",
       "    <tr>\n",
       "      <th>purchase</th>\n",
       "      <td>0.007565</td>\n",
       "      <td>0.017019</td>\n",
       "      <td>-0.009455</td>\n",
       "      <td>-0.001458</td>\n",
       "      <td>0.001476</td>\n",
       "      <td>True</td>\n",
       "    </tr>\n",
       "    <tr>\n",
       "      <th>V1</th>\n",
       "      <td>1.496277</td>\n",
       "      <td>1.505028</td>\n",
       "      <td>-0.008751</td>\n",
       "      <td>-0.011827</td>\n",
       "      <td>0.011643</td>\n",
       "      <td>False</td>\n",
       "    </tr>\n",
       "    <tr>\n",
       "      <th>V2</th>\n",
       "      <td>29.976876</td>\n",
       "      <td>29.970338</td>\n",
       "      <td>0.006538</td>\n",
       "      <td>-0.067899</td>\n",
       "      <td>0.067915</td>\n",
       "      <td>False</td>\n",
       "    </tr>\n",
       "    <tr>\n",
       "      <th>V3</th>\n",
       "      <td>-0.007099</td>\n",
       "      <td>0.007446</td>\n",
       "      <td>-0.014545</td>\n",
       "      <td>-0.013054</td>\n",
       "      <td>0.013796</td>\n",
       "      <td>True</td>\n",
       "    </tr>\n",
       "    <tr>\n",
       "      <th>V4</th>\n",
       "      <td>1.680270</td>\n",
       "      <td>1.678949</td>\n",
       "      <td>0.001321</td>\n",
       "      <td>-0.006392</td>\n",
       "      <td>0.006337</td>\n",
       "      <td>False</td>\n",
       "    </tr>\n",
       "    <tr>\n",
       "      <th>V5</th>\n",
       "      <td>2.330638</td>\n",
       "      <td>2.324662</td>\n",
       "      <td>0.005975</td>\n",
       "      <td>-0.011485</td>\n",
       "      <td>0.011275</td>\n",
       "      <td>False</td>\n",
       "    </tr>\n",
       "    <tr>\n",
       "      <th>V6</th>\n",
       "      <td>2.501565</td>\n",
       "      <td>2.504225</td>\n",
       "      <td>-0.002660</td>\n",
       "      <td>-0.015058</td>\n",
       "      <td>0.014753</td>\n",
       "      <td>False</td>\n",
       "    </tr>\n",
       "    <tr>\n",
       "      <th>V7</th>\n",
       "      <td>1.702205</td>\n",
       "      <td>1.701185</td>\n",
       "      <td>0.001020</td>\n",
       "      <td>-0.006077</td>\n",
       "      <td>0.006083</td>\n",
       "      <td>False</td>\n",
       "    </tr>\n",
       "  </tbody>\n",
       "</table>\n",
       "</div>"
      ],
      "text/plain": [
       "Promotion          0          1  obs_diff  lower bound  higher bound  \\\n",
       "purchase    0.007565   0.017019 -0.009455    -0.001458      0.001476   \n",
       "V1          1.496277   1.505028 -0.008751    -0.011827      0.011643   \n",
       "V2         29.976876  29.970338  0.006538    -0.067899      0.067915   \n",
       "V3         -0.007099   0.007446 -0.014545    -0.013054      0.013796   \n",
       "V4          1.680270   1.678949  0.001321    -0.006392      0.006337   \n",
       "V5          2.330638   2.324662  0.005975    -0.011485      0.011275   \n",
       "V6          2.501565   2.504225 -0.002660    -0.015058      0.014753   \n",
       "V7          1.702205   1.701185  0.001020    -0.006077      0.006083   \n",
       "\n",
       "Promotion  significance  \n",
       "purchase           True  \n",
       "V1                False  \n",
       "V2                False  \n",
       "V3                 True  \n",
       "V4                False  \n",
       "V5                False  \n",
       "V6                False  \n",
       "V7                False  "
      ]
     },
     "execution_count": 173,
     "metadata": {},
     "output_type": "execute_result"
    }
   ],
   "source": [
    "# concatence to the original table and determine if it is significant\n",
    "metric['lower bound'] = pd.Series(lower_bound).values\n",
    "metric['higher bound'] = pd.Series(higher_bound).values\n",
    "metric['significance'] = 1- (metric['obs_diff']>metric['lower bound']) & (metric['obs_diff']<metric['higher bound'])\n",
    "metric"
   ]
  },
  {
   "cell_type": "markdown",
   "metadata": {},
   "source": [
    "1. All control variables except 'V3' are balanced between treatment and control group.\n",
    "2. The evaluation metric 'purchase' is statically significant while lack of a practical significance.\n",
    "\n",
    "A strict analysis should include examine exactly on 'IRR' and 'NIR'. Since this is just a demo, I will skip this part and move to logistic regression."
   ]
  },
  {
   "cell_type": "markdown",
   "metadata": {},
   "source": [
    "## 3. Logistic Regression Optimization"
   ]
  },
  {
   "cell_type": "markdown",
   "metadata": {},
   "source": [
    "This part builds a logistic regression to examine the effect of each varible. It is safe touse the whole dataset since no prediction would be built on this model."
   ]
  },
  {
   "cell_type": "code",
   "execution_count": 182,
   "metadata": {},
   "outputs": [
    {
     "name": "stdout",
     "output_type": "stream",
     "text": [
      "Optimization terminated successfully.\n",
      "         Current function value: 0.065691\n",
      "         Iterations 9\n",
      "                           Logit Regression Results                           \n",
      "==============================================================================\n",
      "Dep. Variable:               purchase   No. Observations:                84534\n",
      "Model:                          Logit   Df Residuals:                    84525\n",
      "Method:                           MLE   Df Model:                            8\n",
      "Date:                Sun, 06 Mar 2022   Pseudo R-squ.:                0.009685\n",
      "Time:                        21:25:52   Log-Likelihood:                -5553.1\n",
      "converged:                       True   LL-Null:                       -5607.4\n",
      "Covariance Type:            nonrobust   LLR p-value:                 7.325e-20\n",
      "==============================================================================\n",
      "                 coef    std err          z      P>|z|      [0.025      0.975]\n",
      "------------------------------------------------------------------------------\n",
      "const         -5.6517      0.295    -19.187      0.000      -6.229      -5.074\n",
      "Promotion      0.0441      0.062      0.707      0.480      -0.078       0.167\n",
      "V1            -0.0520      0.036     -1.446      0.148      -0.123       0.018\n",
      "V2            -0.0032      0.006     -0.518      0.605      -0.015       0.009\n",
      "V3            -0.0590      0.031     -1.889      0.059      -0.120       0.002\n",
      "V4             0.7353      0.080      9.178      0.000       0.578       0.892\n",
      "V5             0.0832      0.037      2.236      0.025       0.010       0.156\n",
      "V6            -0.0129      0.028     -0.462      0.644      -0.068       0.042\n",
      "V7            -0.0206      0.068     -0.303      0.762      -0.154       0.113\n",
      "==============================================================================\n"
     ]
    },
    {
     "name": "stderr",
     "output_type": "stream",
     "text": [
      "/Users/wenkaiwu/opt/anaconda3/lib/python3.9/site-packages/statsmodels/tsa/tsatools.py:142: FutureWarning: In a future version of pandas all arguments of concat except for the argument 'objs' will be keyword-only\n",
      "  x = pd.concat(x[::order], 1)\n"
     ]
    }
   ],
   "source": [
    "# use statsmodel package to run a logistic\n",
    "X_log = train_data[['Promotion', 'V1','V2','V3','V4','V5','V6','V7']]\n",
    "X_log = add_constant(X_log)\n",
    "y_log = train_data['purchase']\n",
    "\n",
    "logit_model = sm.Logit(y_log, X_log)\n",
    "result = logit_model.fit()\n",
    "print(result.summary())"
   ]
  },
  {
   "cell_type": "markdown",
   "metadata": {},
   "source": [
    "1. Only 'V4' and 'V5' are significant predictors for 'purchase'.\n",
    "2. 'Promotion' is really a poor predictor and far from significant."
   ]
  },
  {
   "cell_type": "markdown",
   "metadata": {},
   "source": [
    "## 4. Promotion Strategy Optimization: Uplift Model"
   ]
  },
  {
   "cell_type": "markdown",
   "metadata": {},
   "source": [
    "In this part, I will use a 'pylift' package to implement a uplift model. More introductions are included [here](https://pylift.readthedocs.io/en/latest/introduction.html)"
   ]
  },
  {
   "cell_type": "code",
   "execution_count": 20,
   "metadata": {},
   "outputs": [
    {
     "data": {
      "text/html": [
       "<div>\n",
       "<style scoped>\n",
       "    .dataframe tbody tr th:only-of-type {\n",
       "        vertical-align: middle;\n",
       "    }\n",
       "\n",
       "    .dataframe tbody tr th {\n",
       "        vertical-align: top;\n",
       "    }\n",
       "\n",
       "    .dataframe thead th {\n",
       "        text-align: right;\n",
       "    }\n",
       "</style>\n",
       "<table border=\"1\" class=\"dataframe\">\n",
       "  <thead>\n",
       "    <tr style=\"text-align: right;\">\n",
       "      <th></th>\n",
       "      <th>Promotion</th>\n",
       "      <th>purchase</th>\n",
       "      <th>V1</th>\n",
       "      <th>V2</th>\n",
       "      <th>V3</th>\n",
       "      <th>V4</th>\n",
       "      <th>V5</th>\n",
       "      <th>V6</th>\n",
       "      <th>V7</th>\n",
       "    </tr>\n",
       "  </thead>\n",
       "  <tbody>\n",
       "    <tr>\n",
       "      <th>0</th>\n",
       "      <td>0</td>\n",
       "      <td>0</td>\n",
       "      <td>2</td>\n",
       "      <td>30.443518</td>\n",
       "      <td>-1.165083</td>\n",
       "      <td>1</td>\n",
       "      <td>1</td>\n",
       "      <td>3</td>\n",
       "      <td>2</td>\n",
       "    </tr>\n",
       "    <tr>\n",
       "      <th>1</th>\n",
       "      <td>0</td>\n",
       "      <td>0</td>\n",
       "      <td>3</td>\n",
       "      <td>32.159350</td>\n",
       "      <td>-0.645617</td>\n",
       "      <td>2</td>\n",
       "      <td>3</td>\n",
       "      <td>2</td>\n",
       "      <td>2</td>\n",
       "    </tr>\n",
       "    <tr>\n",
       "      <th>2</th>\n",
       "      <td>0</td>\n",
       "      <td>0</td>\n",
       "      <td>2</td>\n",
       "      <td>30.431659</td>\n",
       "      <td>0.133583</td>\n",
       "      <td>1</td>\n",
       "      <td>1</td>\n",
       "      <td>4</td>\n",
       "      <td>2</td>\n",
       "    </tr>\n",
       "    <tr>\n",
       "      <th>3</th>\n",
       "      <td>0</td>\n",
       "      <td>0</td>\n",
       "      <td>0</td>\n",
       "      <td>26.588914</td>\n",
       "      <td>-0.212728</td>\n",
       "      <td>2</td>\n",
       "      <td>1</td>\n",
       "      <td>4</td>\n",
       "      <td>2</td>\n",
       "    </tr>\n",
       "    <tr>\n",
       "      <th>4</th>\n",
       "      <td>1</td>\n",
       "      <td>0</td>\n",
       "      <td>3</td>\n",
       "      <td>28.044331</td>\n",
       "      <td>-0.385883</td>\n",
       "      <td>1</td>\n",
       "      <td>1</td>\n",
       "      <td>2</td>\n",
       "      <td>2</td>\n",
       "    </tr>\n",
       "  </tbody>\n",
       "</table>\n",
       "</div>"
      ],
      "text/plain": [
       "   Promotion  purchase  V1         V2        V3  V4  V5  V6  V7\n",
       "0          0         0   2  30.443518 -1.165083   1   1   3   2\n",
       "1          0         0   3  32.159350 -0.645617   2   3   2   2\n",
       "2          0         0   2  30.431659  0.133583   1   1   4   2\n",
       "3          0         0   0  26.588914 -0.212728   2   1   4   2\n",
       "4          1         0   3  28.044331 -0.385883   1   1   2   2"
      ]
     },
     "execution_count": 20,
     "metadata": {},
     "output_type": "execute_result"
    }
   ],
   "source": [
    "uplift_data = train_data.drop(['ID'], axis=1)\n",
    "uplift_data.head()"
   ]
  },
  {
   "cell_type": "code",
   "execution_count": 37,
   "metadata": {},
   "outputs": [
    {
     "data": {
      "text/plain": [
       "<AxesSubplot:xlabel='NIV', ylabel='Features'>"
      ]
     },
     "execution_count": 37,
     "metadata": {},
     "output_type": "execute_result"
    },
    {
     "data": {
      "image/png": "[encoded data removed]",
      "text/plain": [
       "<Figure size 1080x504 with 1 Axes>"
      ]
     },
     "metadata": {
      "needs_background": "light"
     },
     "output_type": "display_data"
    }
   ],
   "source": [
    "# plot the net information value\n",
    "up = TransformedOutcome(uplift_data, col_treatment='Promotion', col_outcome='purchase', stratify=uplift_data['purchase'])\n",
    "up.NIV()\n"
   ]
  },
  {
   "cell_type": "markdown",
   "metadata": {},
   "source": [
    "This measure shows the relative strength of the relationship of each feature to the target. Again, 'V4' and 'V5' are most correlated. "
   ]
  },
  {
   "cell_type": "code",
   "execution_count": 42,
   "metadata": {},
   "outputs": [],
   "source": [
    "# grid search for hypterparameter tuning\n",
    "up.randomized_search(n_iter=5, random_state=1)\n",
    "up.fit(**up.rand_search_.best_params_)"
   ]
  },
  {
   "cell_type": "code",
   "execution_count": 44,
   "metadata": {},
   "outputs": [
    {
     "name": "stdout",
     "output_type": "stream",
     "text": [
      "0.0014009223594990492\n"
     ]
    },
    {
     "data": {
      "image/png": "[encoded data removed]",
      "text/plain": [
       "<Figure size 1080x720 with 1 Axes>"
      ]
     },
     "metadata": {
      "needs_background": "light"
     },
     "output_type": "display_data"
    }
   ],
   "source": [
    "# plot the adjusted Qini curve\n",
    "up.plot(plot_type='aqini', show_theoretical_max=True)\n",
    "print(up.test_results_.Q_aqini)"
   ]
  },
  {
   "cell_type": "markdown",
   "metadata": {},
   "source": [
    "It can be seen that our model is better than random choice but much worse than the practical/theoretical maximum possible."
   ]
  },
  {
   "cell_type": "code",
   "execution_count": 117,
   "metadata": {},
   "outputs": [],
   "source": [
    "def promotion_strategy(df):\n",
    "    '''\n",
    "    INPUT \n",
    "    df - a dataframe with *only* the columns V1 - V7 (same as train_data)\n",
    "\n",
    "    OUTPUT\n",
    "    promotion_df - np.array with the values\n",
    "                   'Yes' or 'No' related to whether or not an \n",
    "                   individual should recieve a promotion \n",
    "                   should be the length of df.shape[0]\n",
    "                \n",
    "    Ex:\n",
    "    INPUT: df\n",
    "    \n",
    "    V1\tV2\t  V3\tV4\tV5\tV6\tV7\n",
    "    2\t30\t-1.1\t1\t1\t3\t2\n",
    "    3\t32\t-0.6\t2\t3\t2\t2\n",
    "    2\t30\t0.13\t1\t1\t4\t2\n",
    "    \n",
    "    OUTPUT: promotion\n",
    "    \n",
    "    array(['Yes', 'Yes', 'No'])\n",
    "    indicating the first two users would recieve the promotion and \n",
    "    the last should not.\n",
    "    '''\n",
    "    promotion = []\n",
    "    lift = up.model.predict(df)\n",
    "    \n",
    "    for val in lift:\n",
    "        if val >= 0.01:\n",
    "            promotion.append('Yes')\n",
    "        else:\n",
    "            promotion.append('No')\n",
    "\n",
    "    promotion = np.array(promotion)\n",
    "   \n",
    "    return promotion"
   ]
  },
  {
   "cell_type": "code",
   "execution_count": 118,
   "metadata": {},
   "outputs": [
    {
     "name": "stdout",
     "output_type": "stream",
     "text": [
      "Nice job!  See how well your strategy worked on our test data below!\n",
      "\n",
      "Your irr with this strategy is 0.0142.\n",
      "\n",
      "Your nir with this strategy is -107.90.\n",
      "We came up with a model with an irr of 0.0188 and an nir of 189.45 on the test set.\n",
      "\n",
      " How did you do?\n"
     ]
    },
    {
     "data": {
      "text/plain": [
       "(0.014230848721208628, -107.90000000000009)"
      ]
     },
     "execution_count": 118,
     "metadata": {},
     "output_type": "execute_result"
    }
   ],
   "source": [
    "# This will test your results, and provide you back some information \n",
    "# on how well your promotion_strategy will work in practice\n",
    "\n",
    "test_results(promotion_strategy)"
   ]
  },
  {
   "cell_type": "code",
   "execution_count": null,
   "metadata": {},
   "outputs": [],
   "source": []
  }
 ],
 "metadata": {
  "kernelspec": {
   "display_name": "Python 3 (ipykernel)",
   "language": "python",
   "name": "python3"
  },
  "language_info": {
   "codemirror_mode": {
    "name": "ipython",
    "version": 3
   },
   "file_extension": ".py",
   "mimetype": "text/x-python",
   "name": "python",
   "nbconvert_exporter": "python",
   "pygments_lexer": "ipython3",
   "version": "3.9.7"
  }
 },
 "nbformat": 4,
 "nbformat_minor": 2
}
